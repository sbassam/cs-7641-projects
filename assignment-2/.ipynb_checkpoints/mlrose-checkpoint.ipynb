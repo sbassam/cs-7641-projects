{
 "cells": [
  {
   "cell_type": "code",
   "execution_count": 224,
   "metadata": {},
   "outputs": [],
   "source": [
    "import mlrose\n",
    "import numpy as np\n",
    "import matplotlib.pyplot as plt\n",
    "import time\n",
    "import pandas as pd"
   ]
  },
  {
   "cell_type": "code",
   "execution_count": 2,
   "metadata": {},
   "outputs": [],
   "source": [
    "# steps according to https://mlrose.readthedocs.io/en/stable/source/tutorial1.html\n",
    "    # Define a fitness function object.\n",
    "    # Define an optimization problem object.\n",
    "    # Select and run a randomized optimization algorithm."
   ]
  },
  {
   "cell_type": "code",
   "execution_count": 5,
   "metadata": {},
   "outputs": [],
   "source": [
    "fitness = mlrose.Queens()\n",
    "# Define alternative N-Queens fitness function for maximization problem\n",
    "def queens_max(state):\n",
    "\n",
    "   # Initialize counter\n",
    "    fitness_cnt = 0\n",
    "\n",
    "          # For all pairs of queens\n",
    "    for i in range(len(state) - 1):\n",
    "         for j in range(i + 1, len(state)):\n",
    "\n",
    "        # Check for horizontal, diagonal-up and diagonal-down attacks\n",
    "            if (state[j] != state[i]) \\\n",
    "                and (state[j] != state[i] + (j - i)) \\\n",
    "                and (state[j] != state[i] - (j - i)):\n",
    "\n",
    "               # If no attacks, then increment counter\n",
    "               fitness_cnt += 1\n",
    "\n",
    "    return fitness_cnt\n",
    "\n",
    "# Initialize custom fitness function object\n",
    "fitness_cust = mlrose.CustomFitness(queens_max)\n"
   ]
  },
  {
   "cell_type": "code",
   "execution_count": 6,
   "metadata": {},
   "outputs": [],
   "source": [
    "problem = mlrose.DiscreteOpt(length=8, fitness_fn=fitness, maximize=False, max_val=8)"
   ]
  },
  {
   "cell_type": "code",
   "execution_count": 7,
   "metadata": {},
   "outputs": [],
   "source": [
    "# Define decay schedule\n",
    "schedule = mlrose.ExpDecay()\n",
    "\n",
    "# Define initial state\n",
    "init_state = np.array([0, 1, 2, 3, 4, 5, 6, 7])\n",
    "\n",
    "\n"
   ]
  },
  {
   "cell_type": "code",
   "execution_count": 42,
   "metadata": {},
   "outputs": [],
   "source": [
    "# Solve problem using random hill climbing\n",
    "best_state, best_fitness = mlrose.random_hill_climb(problem,\n",
    "                                                      max_attempts = 5000, max_iters = 50000,\n",
    "                                                      init_state = init_state, random_state = 1)"
   ]
  },
  {
   "cell_type": "code",
   "execution_count": 48,
   "metadata": {},
   "outputs": [],
   "source": [
    "# Solve problem using simulated annealing\n",
    "best_state, best_fitness = mlrose.simulated_annealing(problem, schedule = schedule,\n",
    "                                                      max_attempts = 150, max_iters = 5000,\n",
    "                                                      init_state = init_state, random_state = 1)"
   ]
  },
  {
   "cell_type": "code",
   "execution_count": 52,
   "metadata": {},
   "outputs": [],
   "source": [
    "# Solve problem using GA\n",
    "best_state, best_fitness = mlrose.genetic_alg(problem, pop_size=200, mutation_prob=0.1, max_attempts=10, \n",
    "                                              max_iters=np.inf, curve=False, random_state=None)"
   ]
  },
  {
   "cell_type": "code",
   "execution_count": 60,
   "metadata": {},
   "outputs": [],
   "source": [
    "# Solve problem using MIMIC\n",
    "best_state, best_fitness = mlrose.mimic(problem, pop_size=200, keep_pct=0.2, max_attempts=10, \n",
    "                                        max_iters=np.inf, curve=False, random_state=None)"
   ]
  },
  {
   "cell_type": "code",
   "execution_count": 141,
   "metadata": {},
   "outputs": [],
   "source": [
    "# 4 Peaks\n",
    "# Define initial state\n",
    "init_state = np.array([1, 1, 0, 1, 0, 1, 0, 0, 1, 1,\n",
    "                       1, 0, 1, 0, 1, 1, 1, 0, 0, 0, \n",
    "                       1, 1, 0, 1, 0, 1, 0, 0, 1, 1, \n",
    "                       1, 0, 1, 0, 1, 1, 1, 0, 0, 0])\n",
    "fitness = mlrose.FourPeaks()\n"
   ]
  },
  {
   "cell_type": "code",
   "execution_count": 142,
   "metadata": {},
   "outputs": [],
   "source": [
    "problem = mlrose.DiscreteOpt(length=init_state.shape[0], fitness_fn=fitness, maximize=True, max_val=2)"
   ]
  },
  {
   "cell_type": "code",
   "execution_count": 161,
   "metadata": {},
   "outputs": [],
   "source": [
    "# Solve problem using GA\n",
    "best_state, best_fitness = mlrose.genetic_alg(problem, pop_size=200, mutation_prob=0.1, max_attempts=400, \n",
    "                                              max_iters=20000, curve=False, random_state=None)"
   ]
  },
  {
   "cell_type": "code",
   "execution_count": 163,
   "metadata": {},
   "outputs": [],
   "source": [
    "# Solve problem using MIMIC\n",
    "best_state, best_fitness = mlrose.mimic(problem, pop_size=200, keep_pct=0.2, max_attempts=1000, \n",
    "                                        max_iters=np.inf, curve=False, random_state=None)"
   ]
  },
  {
   "cell_type": "code",
   "execution_count": 162,
   "metadata": {},
   "outputs": [
    {
     "name": "stdout",
     "output_type": "stream",
     "text": [
      "[1 1 1 1 1 1 1 1 0 1 1 1 1 0 0 0 1 1 0 0 0 0 0 0 0 0 0 0 0 0 0 0 0 0 0 0 0\n",
      " 0 0 0] 62.0\n"
     ]
    }
   ],
   "source": [
    "print (best_state, best_fitness)"
   ]
  },
  {
   "cell_type": "code",
   "execution_count": 127,
   "metadata": {},
   "outputs": [
    {
     "data": {
      "text/plain": [
       "0"
      ]
     },
     "execution_count": 127,
     "metadata": {},
     "output_type": "execute_result"
    }
   ],
   "source": [
    "fitness = mlrose.FourPeaks(t_pct=0.1)\n",
    "state = np.array([0, 0, 0, 0, 0, 0, 1, 1, 1, 1])\n",
    "fitness.evaluate(state)"
   ]
  },
  {
   "cell_type": "code",
   "execution_count": null,
   "metadata": {},
   "outputs": [],
   "source": [
    "init_state = np.array()"
   ]
  },
  {
   "cell_type": "code",
   "execution_count": 21,
   "metadata": {
    "collapsed": true
   },
   "outputs": [
    {
     "ename": "KeyboardInterrupt",
     "evalue": "",
     "output_type": "error",
     "traceback": [
      "\u001b[0;31m---------------------------------------------------------------------------\u001b[0m",
      "\u001b[0;31mKeyboardInterrupt\u001b[0m                         Traceback (most recent call last)",
      "\u001b[0;32m<ipython-input-21-41825a3a14a8>\u001b[0m in \u001b[0;36m<module>\u001b[0;34m\u001b[0m\n\u001b[1;32m     30\u001b[0m     \u001b[0;31m# mimic\u001b[0m\u001b[0;34m\u001b[0m\u001b[0;34m\u001b[0m\u001b[0;34m\u001b[0m\u001b[0m\n\u001b[1;32m     31\u001b[0m     mimic_best_state, mimic_best_fitness = mlrose.mimic(problem, pop_size=100, keep_pct=0.2, max_attempts=500, \n\u001b[0;32m---> 32\u001b[0;31m                                             max_iters=i, curve=False, random_state=None)\n\u001b[0m\u001b[1;32m     33\u001b[0m     \u001b[0mmimic_fitness_list\u001b[0m\u001b[0;34m.\u001b[0m\u001b[0mappend\u001b[0m\u001b[0;34m(\u001b[0m\u001b[0mmimic_best_fitness\u001b[0m\u001b[0;34m)\u001b[0m\u001b[0;34m\u001b[0m\u001b[0;34m\u001b[0m\u001b[0m\n\u001b[1;32m     34\u001b[0m \u001b[0;34m\u001b[0m\u001b[0m\n",
      "\u001b[0;32m//anaconda3/lib/python3.7/site-packages/mlrose/algorithms.py\u001b[0m in \u001b[0;36mmimic\u001b[0;34m(problem, pop_size, keep_pct, max_attempts, max_iters, curve, random_state)\u001b[0m\n\u001b[1;32m    545\u001b[0m \u001b[0;34m\u001b[0m\u001b[0m\n\u001b[1;32m    546\u001b[0m         \u001b[0;31m# Update probability estimates\u001b[0m\u001b[0;34m\u001b[0m\u001b[0;34m\u001b[0m\u001b[0;34m\u001b[0m\u001b[0m\n\u001b[0;32m--> 547\u001b[0;31m         \u001b[0mproblem\u001b[0m\u001b[0;34m.\u001b[0m\u001b[0meval_node_probs\u001b[0m\u001b[0;34m(\u001b[0m\u001b[0;34m)\u001b[0m\u001b[0;34m\u001b[0m\u001b[0;34m\u001b[0m\u001b[0m\n\u001b[0m\u001b[1;32m    548\u001b[0m \u001b[0;34m\u001b[0m\u001b[0m\n\u001b[1;32m    549\u001b[0m         \u001b[0;31m# Generate new sample\u001b[0m\u001b[0;34m\u001b[0m\u001b[0;34m\u001b[0m\u001b[0;34m\u001b[0m\u001b[0m\n",
      "\u001b[0;32m//anaconda3/lib/python3.7/site-packages/mlrose/opt_probs.py\u001b[0m in \u001b[0;36meval_node_probs\u001b[0;34m(self)\u001b[0m\n\u001b[1;32m    282\u001b[0m                 mutual_info[i, j] = -1 * mutual_info_score(\n\u001b[1;32m    283\u001b[0m                     \u001b[0mself\u001b[0m\u001b[0;34m.\u001b[0m\u001b[0mkeep_sample\u001b[0m\u001b[0;34m[\u001b[0m\u001b[0;34m:\u001b[0m\u001b[0;34m,\u001b[0m \u001b[0mi\u001b[0m\u001b[0;34m]\u001b[0m\u001b[0;34m,\u001b[0m\u001b[0;34m\u001b[0m\u001b[0;34m\u001b[0m\u001b[0m\n\u001b[0;32m--> 284\u001b[0;31m                     self.keep_sample[:, j])\n\u001b[0m\u001b[1;32m    285\u001b[0m \u001b[0;34m\u001b[0m\u001b[0m\n\u001b[1;32m    286\u001b[0m         \u001b[0;31m# Find minimum spanning tree of mutual info matrix\u001b[0m\u001b[0;34m\u001b[0m\u001b[0;34m\u001b[0m\u001b[0;34m\u001b[0m\u001b[0m\n",
      "\u001b[0;32m//anaconda3/lib/python3.7/site-packages/sklearn/metrics/cluster/supervised.py\u001b[0m in \u001b[0;36mmutual_info_score\u001b[0;34m(labels_true, labels_pred, contingency)\u001b[0m\n\u001b[1;32m    640\u001b[0m                          type(contingency))\n\u001b[1;32m    641\u001b[0m \u001b[0;34m\u001b[0m\u001b[0m\n\u001b[0;32m--> 642\u001b[0;31m     \u001b[0mcontingency_sum\u001b[0m \u001b[0;34m=\u001b[0m \u001b[0mcontingency\u001b[0m\u001b[0;34m.\u001b[0m\u001b[0msum\u001b[0m\u001b[0;34m(\u001b[0m\u001b[0;34m)\u001b[0m\u001b[0;34m\u001b[0m\u001b[0;34m\u001b[0m\u001b[0m\n\u001b[0m\u001b[1;32m    643\u001b[0m     \u001b[0mpi\u001b[0m \u001b[0;34m=\u001b[0m \u001b[0mnp\u001b[0m\u001b[0;34m.\u001b[0m\u001b[0mravel\u001b[0m\u001b[0;34m(\u001b[0m\u001b[0mcontingency\u001b[0m\u001b[0;34m.\u001b[0m\u001b[0msum\u001b[0m\u001b[0;34m(\u001b[0m\u001b[0maxis\u001b[0m\u001b[0;34m=\u001b[0m\u001b[0;36m1\u001b[0m\u001b[0;34m)\u001b[0m\u001b[0;34m)\u001b[0m\u001b[0;34m\u001b[0m\u001b[0;34m\u001b[0m\u001b[0m\n\u001b[1;32m    644\u001b[0m     \u001b[0mpj\u001b[0m \u001b[0;34m=\u001b[0m \u001b[0mnp\u001b[0m\u001b[0;34m.\u001b[0m\u001b[0mravel\u001b[0m\u001b[0;34m(\u001b[0m\u001b[0mcontingency\u001b[0m\u001b[0;34m.\u001b[0m\u001b[0msum\u001b[0m\u001b[0;34m(\u001b[0m\u001b[0maxis\u001b[0m\u001b[0;34m=\u001b[0m\u001b[0;36m0\u001b[0m\u001b[0;34m)\u001b[0m\u001b[0;34m)\u001b[0m\u001b[0;34m\u001b[0m\u001b[0;34m\u001b[0m\u001b[0m\n",
      "\u001b[0;32m//anaconda3/lib/python3.7/site-packages/scipy/sparse/compressed.py\u001b[0m in \u001b[0;36msum\u001b[0;34m(self, axis, dtype, out)\u001b[0m\n\u001b[1;32m    609\u001b[0m         \u001b[0;31m# is in {None, -1, 0, 1}\u001b[0m\u001b[0;34m\u001b[0m\u001b[0;34m\u001b[0m\u001b[0;34m\u001b[0m\u001b[0m\n\u001b[1;32m    610\u001b[0m         \u001b[0;32melse\u001b[0m\u001b[0;34m:\u001b[0m\u001b[0;34m\u001b[0m\u001b[0;34m\u001b[0m\u001b[0m\n\u001b[0;32m--> 611\u001b[0;31m             \u001b[0;32mreturn\u001b[0m \u001b[0mspmatrix\u001b[0m\u001b[0;34m.\u001b[0m\u001b[0msum\u001b[0m\u001b[0;34m(\u001b[0m\u001b[0mself\u001b[0m\u001b[0;34m,\u001b[0m \u001b[0maxis\u001b[0m\u001b[0;34m=\u001b[0m\u001b[0maxis\u001b[0m\u001b[0;34m,\u001b[0m \u001b[0mdtype\u001b[0m\u001b[0;34m=\u001b[0m\u001b[0mdtype\u001b[0m\u001b[0;34m,\u001b[0m \u001b[0mout\u001b[0m\u001b[0;34m=\u001b[0m\u001b[0mout\u001b[0m\u001b[0;34m)\u001b[0m\u001b[0;34m\u001b[0m\u001b[0;34m\u001b[0m\u001b[0m\n\u001b[0m\u001b[1;32m    612\u001b[0m \u001b[0;34m\u001b[0m\u001b[0m\n\u001b[1;32m    613\u001b[0m     \u001b[0msum\u001b[0m\u001b[0;34m.\u001b[0m\u001b[0m__doc__\u001b[0m \u001b[0;34m=\u001b[0m \u001b[0mspmatrix\u001b[0m\u001b[0;34m.\u001b[0m\u001b[0msum\u001b[0m\u001b[0;34m.\u001b[0m\u001b[0m__doc__\u001b[0m\u001b[0;34m\u001b[0m\u001b[0;34m\u001b[0m\u001b[0m\n",
      "\u001b[0;32m//anaconda3/lib/python3.7/site-packages/scipy/sparse/base.py\u001b[0m in \u001b[0;36msum\u001b[0;34m(self, axis, dtype, out)\u001b[0m\n\u001b[1;32m   1001\u001b[0m             \u001b[0;31m# sum over rows and columns\u001b[0m\u001b[0;34m\u001b[0m\u001b[0;34m\u001b[0m\u001b[0;34m\u001b[0m\u001b[0m\n\u001b[1;32m   1002\u001b[0m             return (self * asmatrix(np.ones(\n\u001b[0;32m-> 1003\u001b[0;31m                 (n, 1), dtype=res_dtype))).sum(\n\u001b[0m\u001b[1;32m   1004\u001b[0m                 dtype=dtype, out=out)\n\u001b[1;32m   1005\u001b[0m \u001b[0;34m\u001b[0m\u001b[0m\n",
      "\u001b[0;32m//anaconda3/lib/python3.7/site-packages/scipy/sparse/base.py\u001b[0m in \u001b[0;36m__mul__\u001b[0;34m(self, other)\u001b[0m\n\u001b[1;32m    499\u001b[0m                 \u001b[0;32mraise\u001b[0m \u001b[0mValueError\u001b[0m\u001b[0;34m(\u001b[0m\u001b[0;34m'dimension mismatch'\u001b[0m\u001b[0;34m)\u001b[0m\u001b[0;34m\u001b[0m\u001b[0;34m\u001b[0m\u001b[0m\n\u001b[1;32m    500\u001b[0m \u001b[0;34m\u001b[0m\u001b[0m\n\u001b[0;32m--> 501\u001b[0;31m             \u001b[0mresult\u001b[0m \u001b[0;34m=\u001b[0m \u001b[0mself\u001b[0m\u001b[0;34m.\u001b[0m\u001b[0m_mul_vector\u001b[0m\u001b[0;34m(\u001b[0m\u001b[0mnp\u001b[0m\u001b[0;34m.\u001b[0m\u001b[0mravel\u001b[0m\u001b[0;34m(\u001b[0m\u001b[0mother\u001b[0m\u001b[0;34m)\u001b[0m\u001b[0;34m)\u001b[0m\u001b[0;34m\u001b[0m\u001b[0;34m\u001b[0m\u001b[0m\n\u001b[0m\u001b[1;32m    502\u001b[0m \u001b[0;34m\u001b[0m\u001b[0m\n\u001b[1;32m    503\u001b[0m             \u001b[0;32mif\u001b[0m \u001b[0misinstance\u001b[0m\u001b[0;34m(\u001b[0m\u001b[0mother\u001b[0m\u001b[0;34m,\u001b[0m \u001b[0mnp\u001b[0m\u001b[0;34m.\u001b[0m\u001b[0mmatrix\u001b[0m\u001b[0;34m)\u001b[0m\u001b[0;34m:\u001b[0m\u001b[0;34m\u001b[0m\u001b[0;34m\u001b[0m\u001b[0m\n",
      "\u001b[0;32m//anaconda3/lib/python3.7/site-packages/scipy/sparse/compressed.py\u001b[0m in \u001b[0;36m_mul_vector\u001b[0;34m(self, other)\u001b[0m\n\u001b[1;32m    467\u001b[0m         \u001b[0;31m# output array\u001b[0m\u001b[0;34m\u001b[0m\u001b[0;34m\u001b[0m\u001b[0;34m\u001b[0m\u001b[0m\n\u001b[1;32m    468\u001b[0m         result = np.zeros(M, dtype=upcast_char(self.dtype.char,\n\u001b[0;32m--> 469\u001b[0;31m                                                other.dtype.char))\n\u001b[0m\u001b[1;32m    470\u001b[0m \u001b[0;34m\u001b[0m\u001b[0m\n\u001b[1;32m    471\u001b[0m         \u001b[0;31m# csr_matvec or csc_matvec\u001b[0m\u001b[0;34m\u001b[0m\u001b[0;34m\u001b[0m\u001b[0;34m\u001b[0m\u001b[0m\n",
      "\u001b[0;31mKeyboardInterrupt\u001b[0m: "
     ]
    }
   ],
   "source": [
    "#for i in range(10, 40, 10):\n",
    "init_state = np.random.randint(2, size=50)\n",
    "fitness = mlrose.FourPeaks()\n",
    "problem = mlrose.DiscreteOpt(length=init_state.shape[0], fitness_fn=fitness, maximize=True, max_val=2)\n",
    "\n",
    "rhc_fitness_list = []\n",
    "sa_fitness_list = []\n",
    "ga_fitness_list= []\n",
    "mimic_fitness_list = []\n",
    "\n",
    "iters = np.arange(1, 500, 20)\n",
    "iters = [2**i for i in range(4, 13)]\n",
    "for i in iters:\n",
    "#     # randomized hill climbing\n",
    "#     rhc_best_state, rhc_best_fitness = mlrose.random_hill_climb(problem, max_attempts = 100, max_iters = i,\n",
    "#                                                           init_state = init_state, random_state = 1)\n",
    "#     rhc_fitness_list.append(rhc_best_fitness)\n",
    "    \n",
    "#     # simulated annealing\n",
    "#     sa_best_state, sa_best_fitness = mlrose.simulated_annealing(problem, schedule = schedule, max_attempts = 100, \n",
    "#                                                                 max_iters = i, init_state = init_state, \n",
    "#                                                                 random_state = 1)\n",
    "#     sa_fitness_list.append(sa_best_fitness)\n",
    "    \n",
    "    # ga\n",
    "    ga_best_state, ga_best_fitness = mlrose.genetic_alg(problem, pop_size=100, mutation_prob=0.2, max_attempts=500, \n",
    "                                                        max_iters=i, curve=False, random_state=None)\n",
    "    ga_fitness_list.append(ga_best_fitness)\n",
    "    \n",
    "    # mimic\n",
    "    mimic_best_state, mimic_best_fitness = mlrose.mimic(problem, pop_size=100, keep_pct=0.2, max_attempts=500, \n",
    "                                            max_iters=i, curve=False, random_state=None)\n",
    "    mimic_fitness_list.append(mimic_best_fitness)\n",
    "    \n"
   ]
  },
  {
   "cell_type": "code",
   "execution_count": 14,
   "metadata": {},
   "outputs": [
    {
     "ename": "NameError",
     "evalue": "name 'fitness_list' is not defined",
     "output_type": "error",
     "traceback": [
      "\u001b[0;31m---------------------------------------------------------------------------\u001b[0m",
      "\u001b[0;31mNameError\u001b[0m                                 Traceback (most recent call last)",
      "\u001b[0;32m<ipython-input-14-204b414c5e28>\u001b[0m in \u001b[0;36m<module>\u001b[0;34m\u001b[0m\n\u001b[1;32m      1\u001b[0m \u001b[0mplt\u001b[0m\u001b[0;34m.\u001b[0m\u001b[0mstyle\u001b[0m\u001b[0;34m.\u001b[0m\u001b[0muse\u001b[0m\u001b[0;34m(\u001b[0m\u001b[0;34m'seaborn'\u001b[0m\u001b[0;34m)\u001b[0m\u001b[0;34m\u001b[0m\u001b[0;34m\u001b[0m\u001b[0m\n\u001b[0;32m----> 2\u001b[0;31m plt.plot(iters, fitness_list, 'o-', color=\"r\",\n\u001b[0m\u001b[1;32m      3\u001b[0m              label=\"Fitness\")\n",
      "\u001b[0;31mNameError\u001b[0m: name 'fitness_list' is not defined"
     ]
    }
   ],
   "source": [
    "\n",
    "plt.style.use('seaborn')\n",
    "plt.plot(iters, fitness_list, 'o-', color=\"r\",\n",
    "             label=\"Fitness\")"
   ]
  },
  {
   "cell_type": "code",
   "execution_count": 4,
   "metadata": {},
   "outputs": [
    {
     "data": {
      "text/plain": [
       "44.0"
      ]
     },
     "execution_count": 4,
     "metadata": {},
     "output_type": "execute_result"
    }
   ],
   "source": [
    "mimic_best_fitness"
   ]
  },
  {
   "cell_type": "code",
   "execution_count": 6,
   "metadata": {},
   "outputs": [
    {
     "data": {
      "text/plain": [
       "[1, 2, 4, 8, 16, 32, 64, 128, 256, 512, 1024, 2048]"
      ]
     },
     "execution_count": 6,
     "metadata": {},
     "output_type": "execute_result"
    }
   ],
   "source": [
    "iters"
   ]
  },
  {
   "cell_type": "code",
   "execution_count": 23,
   "metadata": {
    "collapsed": true
   },
   "outputs": [
    {
     "ename": "ValueError",
     "evalue": "x and y must have same first dimension, but have shapes (9,) and (1,)",
     "output_type": "error",
     "traceback": [
      "\u001b[0;31m---------------------------------------------------------------------------\u001b[0m",
      "\u001b[0;31mValueError\u001b[0m                                Traceback (most recent call last)",
      "\u001b[0;32m<ipython-input-23-e2e850cba5d3>\u001b[0m in \u001b[0;36m<module>\u001b[0;34m\u001b[0m\n\u001b[1;32m      2\u001b[0m \u001b[0;31m# plt.plot(iters, rhc_fitness_list, 'o-', color=\"r\", label=\"rhc\")\u001b[0m\u001b[0;34m\u001b[0m\u001b[0;34m\u001b[0m\u001b[0;34m\u001b[0m\u001b[0m\n\u001b[1;32m      3\u001b[0m \u001b[0;31m# plt.plot(iters, sa_fitness_list, 'o-', color=\"olive\", label=\"sa\")\u001b[0m\u001b[0;34m\u001b[0m\u001b[0;34m\u001b[0m\u001b[0;34m\u001b[0m\u001b[0m\n\u001b[0;32m----> 4\u001b[0;31m \u001b[0mplt\u001b[0m\u001b[0;34m.\u001b[0m\u001b[0mplot\u001b[0m\u001b[0;34m(\u001b[0m\u001b[0miters\u001b[0m\u001b[0;34m,\u001b[0m \u001b[0mga_fitness_list\u001b[0m\u001b[0;34m,\u001b[0m \u001b[0;34m'o-'\u001b[0m\u001b[0;34m,\u001b[0m \u001b[0mcolor\u001b[0m\u001b[0;34m=\u001b[0m\u001b[0;34m\"black\"\u001b[0m\u001b[0;34m,\u001b[0m \u001b[0mlabel\u001b[0m\u001b[0;34m=\u001b[0m\u001b[0;34m\"ga\"\u001b[0m\u001b[0;34m)\u001b[0m\u001b[0;34m\u001b[0m\u001b[0;34m\u001b[0m\u001b[0m\n\u001b[0m\u001b[1;32m      5\u001b[0m \u001b[0mplt\u001b[0m\u001b[0;34m.\u001b[0m\u001b[0mplot\u001b[0m\u001b[0;34m(\u001b[0m\u001b[0miters\u001b[0m\u001b[0;34m,\u001b[0m \u001b[0mmimic_fitness_list\u001b[0m\u001b[0;34m,\u001b[0m \u001b[0;34m'o-'\u001b[0m\u001b[0;34m,\u001b[0m \u001b[0mcolor\u001b[0m\u001b[0;34m=\u001b[0m\u001b[0;34m\"g\"\u001b[0m\u001b[0;34m,\u001b[0m \u001b[0mlabel\u001b[0m\u001b[0;34m=\u001b[0m\u001b[0;34m\"mimic\"\u001b[0m\u001b[0;34m)\u001b[0m\u001b[0;34m\u001b[0m\u001b[0;34m\u001b[0m\u001b[0m\n\u001b[1;32m      6\u001b[0m \u001b[0mplt\u001b[0m\u001b[0;34m.\u001b[0m\u001b[0mxscale\u001b[0m\u001b[0;34m(\u001b[0m\u001b[0;34m'log'\u001b[0m\u001b[0;34m,\u001b[0m \u001b[0mbasex\u001b[0m\u001b[0;34m=\u001b[0m\u001b[0;36m2\u001b[0m\u001b[0;34m)\u001b[0m\u001b[0;34m\u001b[0m\u001b[0;34m\u001b[0m\u001b[0m\n",
      "\u001b[0;32m//anaconda3/lib/python3.7/site-packages/matplotlib/pyplot.py\u001b[0m in \u001b[0;36mplot\u001b[0;34m(scalex, scaley, data, *args, **kwargs)\u001b[0m\n\u001b[1;32m   2787\u001b[0m     return gca().plot(\n\u001b[1;32m   2788\u001b[0m         *args, scalex=scalex, scaley=scaley, **({\"data\": data} if data\n\u001b[0;32m-> 2789\u001b[0;31m         is not None else {}), **kwargs)\n\u001b[0m\u001b[1;32m   2790\u001b[0m \u001b[0;34m\u001b[0m\u001b[0m\n\u001b[1;32m   2791\u001b[0m \u001b[0;34m\u001b[0m\u001b[0m\n",
      "\u001b[0;32m//anaconda3/lib/python3.7/site-packages/matplotlib/axes/_axes.py\u001b[0m in \u001b[0;36mplot\u001b[0;34m(self, scalex, scaley, data, *args, **kwargs)\u001b[0m\n\u001b[1;32m   1664\u001b[0m         \"\"\"\n\u001b[1;32m   1665\u001b[0m         \u001b[0mkwargs\u001b[0m \u001b[0;34m=\u001b[0m \u001b[0mcbook\u001b[0m\u001b[0;34m.\u001b[0m\u001b[0mnormalize_kwargs\u001b[0m\u001b[0;34m(\u001b[0m\u001b[0mkwargs\u001b[0m\u001b[0;34m,\u001b[0m \u001b[0mmlines\u001b[0m\u001b[0;34m.\u001b[0m\u001b[0mLine2D\u001b[0m\u001b[0;34m.\u001b[0m\u001b[0m_alias_map\u001b[0m\u001b[0;34m)\u001b[0m\u001b[0;34m\u001b[0m\u001b[0;34m\u001b[0m\u001b[0m\n\u001b[0;32m-> 1666\u001b[0;31m         \u001b[0mlines\u001b[0m \u001b[0;34m=\u001b[0m \u001b[0;34m[\u001b[0m\u001b[0;34m*\u001b[0m\u001b[0mself\u001b[0m\u001b[0;34m.\u001b[0m\u001b[0m_get_lines\u001b[0m\u001b[0;34m(\u001b[0m\u001b[0;34m*\u001b[0m\u001b[0margs\u001b[0m\u001b[0;34m,\u001b[0m \u001b[0mdata\u001b[0m\u001b[0;34m=\u001b[0m\u001b[0mdata\u001b[0m\u001b[0;34m,\u001b[0m \u001b[0;34m**\u001b[0m\u001b[0mkwargs\u001b[0m\u001b[0;34m)\u001b[0m\u001b[0;34m]\u001b[0m\u001b[0;34m\u001b[0m\u001b[0;34m\u001b[0m\u001b[0m\n\u001b[0m\u001b[1;32m   1667\u001b[0m         \u001b[0;32mfor\u001b[0m \u001b[0mline\u001b[0m \u001b[0;32min\u001b[0m \u001b[0mlines\u001b[0m\u001b[0;34m:\u001b[0m\u001b[0;34m\u001b[0m\u001b[0;34m\u001b[0m\u001b[0m\n\u001b[1;32m   1668\u001b[0m             \u001b[0mself\u001b[0m\u001b[0;34m.\u001b[0m\u001b[0madd_line\u001b[0m\u001b[0;34m(\u001b[0m\u001b[0mline\u001b[0m\u001b[0;34m)\u001b[0m\u001b[0;34m\u001b[0m\u001b[0;34m\u001b[0m\u001b[0m\n",
      "\u001b[0;32m//anaconda3/lib/python3.7/site-packages/matplotlib/axes/_base.py\u001b[0m in \u001b[0;36m__call__\u001b[0;34m(self, *args, **kwargs)\u001b[0m\n\u001b[1;32m    223\u001b[0m                 \u001b[0mthis\u001b[0m \u001b[0;34m+=\u001b[0m \u001b[0margs\u001b[0m\u001b[0;34m[\u001b[0m\u001b[0;36m0\u001b[0m\u001b[0;34m]\u001b[0m\u001b[0;34m,\u001b[0m\u001b[0;34m\u001b[0m\u001b[0;34m\u001b[0m\u001b[0m\n\u001b[1;32m    224\u001b[0m                 \u001b[0margs\u001b[0m \u001b[0;34m=\u001b[0m \u001b[0margs\u001b[0m\u001b[0;34m[\u001b[0m\u001b[0;36m1\u001b[0m\u001b[0;34m:\u001b[0m\u001b[0;34m]\u001b[0m\u001b[0;34m\u001b[0m\u001b[0;34m\u001b[0m\u001b[0m\n\u001b[0;32m--> 225\u001b[0;31m             \u001b[0;32myield\u001b[0m \u001b[0;32mfrom\u001b[0m \u001b[0mself\u001b[0m\u001b[0;34m.\u001b[0m\u001b[0m_plot_args\u001b[0m\u001b[0;34m(\u001b[0m\u001b[0mthis\u001b[0m\u001b[0;34m,\u001b[0m \u001b[0mkwargs\u001b[0m\u001b[0;34m)\u001b[0m\u001b[0;34m\u001b[0m\u001b[0;34m\u001b[0m\u001b[0m\n\u001b[0m\u001b[1;32m    226\u001b[0m \u001b[0;34m\u001b[0m\u001b[0m\n\u001b[1;32m    227\u001b[0m     \u001b[0;32mdef\u001b[0m \u001b[0mget_next_color\u001b[0m\u001b[0;34m(\u001b[0m\u001b[0mself\u001b[0m\u001b[0;34m)\u001b[0m\u001b[0;34m:\u001b[0m\u001b[0;34m\u001b[0m\u001b[0;34m\u001b[0m\u001b[0m\n",
      "\u001b[0;32m//anaconda3/lib/python3.7/site-packages/matplotlib/axes/_base.py\u001b[0m in \u001b[0;36m_plot_args\u001b[0;34m(self, tup, kwargs)\u001b[0m\n\u001b[1;32m    389\u001b[0m             \u001b[0mx\u001b[0m\u001b[0;34m,\u001b[0m \u001b[0my\u001b[0m \u001b[0;34m=\u001b[0m \u001b[0mindex_of\u001b[0m\u001b[0;34m(\u001b[0m\u001b[0mtup\u001b[0m\u001b[0;34m[\u001b[0m\u001b[0;34m-\u001b[0m\u001b[0;36m1\u001b[0m\u001b[0;34m]\u001b[0m\u001b[0;34m)\u001b[0m\u001b[0;34m\u001b[0m\u001b[0;34m\u001b[0m\u001b[0m\n\u001b[1;32m    390\u001b[0m \u001b[0;34m\u001b[0m\u001b[0m\n\u001b[0;32m--> 391\u001b[0;31m         \u001b[0mx\u001b[0m\u001b[0;34m,\u001b[0m \u001b[0my\u001b[0m \u001b[0;34m=\u001b[0m \u001b[0mself\u001b[0m\u001b[0;34m.\u001b[0m\u001b[0m_xy_from_xy\u001b[0m\u001b[0;34m(\u001b[0m\u001b[0mx\u001b[0m\u001b[0;34m,\u001b[0m \u001b[0my\u001b[0m\u001b[0;34m)\u001b[0m\u001b[0;34m\u001b[0m\u001b[0;34m\u001b[0m\u001b[0m\n\u001b[0m\u001b[1;32m    392\u001b[0m \u001b[0;34m\u001b[0m\u001b[0m\n\u001b[1;32m    393\u001b[0m         \u001b[0;32mif\u001b[0m \u001b[0mself\u001b[0m\u001b[0;34m.\u001b[0m\u001b[0mcommand\u001b[0m \u001b[0;34m==\u001b[0m \u001b[0;34m'plot'\u001b[0m\u001b[0;34m:\u001b[0m\u001b[0;34m\u001b[0m\u001b[0;34m\u001b[0m\u001b[0m\n",
      "\u001b[0;32m//anaconda3/lib/python3.7/site-packages/matplotlib/axes/_base.py\u001b[0m in \u001b[0;36m_xy_from_xy\u001b[0;34m(self, x, y)\u001b[0m\n\u001b[1;32m    268\u001b[0m         \u001b[0;32mif\u001b[0m \u001b[0mx\u001b[0m\u001b[0;34m.\u001b[0m\u001b[0mshape\u001b[0m\u001b[0;34m[\u001b[0m\u001b[0;36m0\u001b[0m\u001b[0;34m]\u001b[0m \u001b[0;34m!=\u001b[0m \u001b[0my\u001b[0m\u001b[0;34m.\u001b[0m\u001b[0mshape\u001b[0m\u001b[0;34m[\u001b[0m\u001b[0;36m0\u001b[0m\u001b[0;34m]\u001b[0m\u001b[0;34m:\u001b[0m\u001b[0;34m\u001b[0m\u001b[0;34m\u001b[0m\u001b[0m\n\u001b[1;32m    269\u001b[0m             raise ValueError(\"x and y must have same first dimension, but \"\n\u001b[0;32m--> 270\u001b[0;31m                              \"have shapes {} and {}\".format(x.shape, y.shape))\n\u001b[0m\u001b[1;32m    271\u001b[0m         \u001b[0;32mif\u001b[0m \u001b[0mx\u001b[0m\u001b[0;34m.\u001b[0m\u001b[0mndim\u001b[0m \u001b[0;34m>\u001b[0m \u001b[0;36m2\u001b[0m \u001b[0;32mor\u001b[0m \u001b[0my\u001b[0m\u001b[0;34m.\u001b[0m\u001b[0mndim\u001b[0m \u001b[0;34m>\u001b[0m \u001b[0;36m2\u001b[0m\u001b[0;34m:\u001b[0m\u001b[0;34m\u001b[0m\u001b[0;34m\u001b[0m\u001b[0m\n\u001b[1;32m    272\u001b[0m             raise ValueError(\"x and y can be no greater than 2-D, but have \"\n",
      "\u001b[0;31mValueError\u001b[0m: x and y must have same first dimension, but have shapes (9,) and (1,)"
     ]
    },
    {
     "data": {
      "image/png": "[encoded data removed]",
      "text/plain": [
       "<Figure size 576x396 with 1 Axes>"
      ]
     },
     "metadata": {},
     "output_type": "display_data"
    }
   ],
   "source": [
    "plt.style.use('seaborn')\n",
    "# plt.plot(iters, rhc_fitness_list, 'o-', color=\"r\", label=\"rhc\")\n",
    "# plt.plot(iters, sa_fitness_list, 'o-', color=\"olive\", label=\"sa\")\n",
    "plt.plot(iters, ga_fitness_list, 'o-', color=\"black\", label=\"ga\")\n",
    "plt.plot(iters, mimic_fitness_list, 'o-', color=\"g\", label=\"mimic\")\n",
    "plt.xscale('log', basex=2)\n",
    "plt.ylabel('Fitness', fontsize=14)\n",
    "plt.xlabel('Iterations', fontsize=14)\n",
    "plt.title('Fitness vs Iteration for 4 Peaks problem', fontsize=14)\n",
    "plt.legend()\n",
    "plt.show()"
   ]
  },
  {
   "cell_type": "code",
   "execution_count": null,
   "metadata": {},
   "outputs": [],
   "source": [
    "plt.close()"
   ]
  },
  {
   "cell_type": "code",
   "execution_count": 44,
   "metadata": {},
   "outputs": [],
   "source": [
    "#for i in range(10, 40, 10):\n",
    "init_state = np.random.randint(2, size=20)\n",
    "fitness = mlrose.FourPeaks()\n",
    "problem = mlrose.DiscreteOpt(length=init_state.shape[0], fitness_fn=fitness, maximize=True, max_val=2)\n",
    "\n",
    "rhc_fitness_list = []\n",
    "sa_fitness_list = []\n",
    "ga_fitness_list= []\n",
    "mimic_fitness_list = []\n",
    "\n",
    "iters = np.arange(1, 500, 20)\n",
    "iters = [2**i for i in range(4, 13)]\n",
    "#for i in iters:\n",
    "#     # randomized hill climbing\n",
    "#     rhc_best_state, rhc_best_fitness = mlrose.random_hill_climb(problem, max_attempts = 100, max_iters = i,\n",
    "#                                                           init_state = init_state, random_state = 1)\n",
    "#     rhc_fitness_list.append(rhc_best_fitness)\n",
    "    \n",
    "#     # simulated annealing\n",
    "#     sa_best_state, sa_best_fitness = mlrose.simulated_annealing(problem, schedule = schedule, max_attempts = 100, \n",
    "#                                                                 max_iters = i, init_state = init_state, \n",
    "#                                                                 random_state = 1)\n",
    "#     sa_fitness_list.append(sa_best_fitness)\n",
    "    \n",
    "# ga\n",
    "# ga_best_state, ga_best_fitness = mlrose.genetic_alg(problem, pop_size=100, mutation_prob=0.2, max_attempts=500, \n",
    "#                                                     max_iters=10, curve=False, random_state=None)\n",
    "# ga_fitness_list.append(ga_best_fitness)\n",
    "\n",
    "# mimic\n",
    "mimic_best_state, mimic_best_fitness = mlrose.mimic(problem, pop_size=100, keep_pct=0.2, max_attempts=400, \n",
    "                                        max_iters=1000, curve=False, random_state=None)\n",
    "mimic_fitness_list.append(mimic_best_fitness)\n"
   ]
  },
  {
   "cell_type": "code",
   "execution_count": 54,
   "metadata": {},
   "outputs": [],
   "source": [
    "num_runs = 10\n",
    "max_iter_p = 10\n",
    "input_size = 40\n",
    "init_state = np.random.randint(2, size=input_size)\n",
    "fitness = mlrose.FourPeaks()\n",
    "problem = mlrose.DiscreteOpt(length=input_size, fitness_fn=fitness, maximize=True, max_val=2)"
   ]
  },
  {
   "cell_type": "code",
   "execution_count": null,
   "metadata": {},
   "outputs": [],
   "source": [
    "num_runs = 10\n",
    "max_iter_p = 10\n",
    "input_size = 40\n",
    "init_state = np.random.randint(2, size=input_size)\n",
    "fitness = mlrose.FourPeaks()\n",
    "problem = mlrose.DiscreteOpt(length=input_size, fitness_fn=fitness, maximize=True, max_val=2)"
   ]
  },
  {
   "cell_type": "code",
   "execution_count": 37,
   "metadata": {},
   "outputs": [],
   "source": [
    "\n",
    "# randomized hill climbing\n",
    "iters = [2**i for i in range(max_iter_p)]\n",
    "rhc_best_fitness_arr = np.empty([0, len(iters)])\n",
    "rhc_time_arr = np.empty([0, len(iters)])\n",
    "\n",
    "for n in range(num_runs):\n",
    "    fitness_list = []\n",
    "    time_list = []\n",
    "    for iter in iters:\n",
    "        start = time.time()\n",
    "        rhc_best_state, rhc_best_fitness = mlrose.random_hill_climb(problem, max_attempts = 100, max_iters = iter,\n",
    "                                                              init_state = init_state)\n",
    "        finish = time.time()\n",
    "        time_list.append(finish-start)\n",
    "        fitness_list.append(rhc_best_fitness)\n",
    "    rhc_time_arr = np.vstack((rhc_time_arr, time_list))\n",
    "    rhc_best_fitness_arr = np.vstack((rhc_best_fitness_arr, fitness_list))"
   ]
  },
  {
   "cell_type": "code",
   "execution_count": 41,
   "metadata": {},
   "outputs": [],
   "source": [
    "\n",
    "# simulated annealing\n",
    "schedule = mlrose.ExpDecay()\n",
    "iters = [2**i for i in range(max_iter_p)]\n",
    "sa_best_fitness_arr = np.empty([0, len(iters)])\n",
    "sa_time_arr = np.empty([0, len(iters)])\n",
    "\n",
    "for n in range(num_runs):\n",
    "    fitness_list = []\n",
    "    time_list = []\n",
    "    for iter in iters:\n",
    "        start = time.time()\n",
    "        sa_best_state, sa_best_fitness = mlrose.simulated_annealing(problem, schedule = schedule, max_attempts = 100, \n",
    "                                                                max_iters = iter, init_state = init_state)\n",
    "        finish = time.time()\n",
    "        time_list.append(finish-start)\n",
    "        fitness_list.append(sa_best_fitness)\n",
    "    sa_time_arr = np.vstack((sa_time_arr, time_list))\n",
    "    sa_best_fitness_arr = np.vstack((sa_best_fitness_arr, fitness_list))"
   ]
  },
  {
   "cell_type": "code",
   "execution_count": 42,
   "metadata": {},
   "outputs": [],
   "source": [
    "\n",
    "# Genetic Algorithm\n",
    "iters = [2**i for i in range(max_iter_p)]\n",
    "ga_best_fitness_arr = np.empty([0, len(iters)])\n",
    "ga_time_arr = np.empty([0, len(iters)])\n",
    "\n",
    "for n in range(num_runs):\n",
    "    fitness_list = []\n",
    "    time_list = []\n",
    "    for iter in iters:\n",
    "        start = time.time()\n",
    "        ga_best_state, ga_best_fitness = mlrose.genetic_alg(problem, max_attempts = 100, \n",
    "                                                                max_iters = iter)\n",
    "        finish = time.time()\n",
    "        time_list.append(finish-start)\n",
    "        fitness_list.append(ga_best_fitness)\n",
    "    ga_time_arr = np.vstack((ga_time_arr, time_list))\n",
    "    ga_best_fitness_arr = np.vstack((ga_best_fitness_arr, fitness_list))"
   ]
  },
  {
   "cell_type": "code",
   "execution_count": 5,
   "metadata": {},
   "outputs": [],
   "source": [
    "# mimic\n",
    "iters = [2**i for i in range(max_iter_p)]\n",
    "mimic_best_fitness_arr = np.empty([0, len(iters)])\n",
    "mimic_time_arr = np.empty([0, len(iters)])\n",
    "\n",
    "for n in range(num_runs):\n",
    "    fitness_list = []\n",
    "    time_list = []\n",
    "    for iter in iters:\n",
    "        start = time.time()\n",
    "        mimic_best_state, mimic_best_fitness = mlrose.mimic(problem, pop_size=100, keep_pct=0.2, max_attempts=100, \n",
    "                                        max_iters=iter)\n",
    "        finish = time.time()\n",
    "        time_list.append(finish-start)\n",
    "        fitness_list.append(mimic_best_fitness)\n",
    "    mimic_time_arr = np.vstack((mimic_time_arr, time_list))\n",
    "    mimic_best_fitness_arr = np.vstack((mimic_best_fitness_arr, fitness_list))"
   ]
  },
  {
   "cell_type": "code",
   "execution_count": 400,
   "metadata": {
    "collapsed": true
   },
   "outputs": [
    {
     "data": {
      "text/plain": [
       "array([[  3.,   3.,   3.,   3.,   3.,   3.,   3.,   6.,   8.,  17.],\n",
       "       [  3.,   3.,   3.,   3.,   3.,   1.,   8.,   1.,   6.,  16.],\n",
       "       [  3.,   3.,   3.,   3.,   3.,   3.,   5.,   3.,   7.,  14.],\n",
       "       [  3.,   3.,   3.,   3.,   5.,   5.,   7.,   4.,   6.,  10.],\n",
       "       [  3.,   3.,   3.,   3.,   2.,   3.,   6.,   8.,   5.,   9.],\n",
       "       [  3.,   3.,   3.,   3.,   3.,   3.,   5.,   6.,   2.,   5.],\n",
       "       [  3.,   3.,   3.,   3.,   3.,   4.,   3.,   1.,   9.,  23.],\n",
       "       [  3.,   3.,   3.,   3.,   3.,   3.,   3.,   9.,   6.,  11.],\n",
       "       [  3.,   3.,   3.,   5.,   3.,   6.,   3.,   9.,   5.,   6.],\n",
       "       [  3.,   3.,   3.,   3.,   3.,   3.,   3.,  10.,   3.,   5.],\n",
       "       [  3.,   3.,   3.,   3.,   3.,   3.,   5.,   3.,  15.,  14.],\n",
       "       [  3.,   3.,   3.,   3.,   3.,   2.,   3.,   5.,   9.,  20.],\n",
       "       [  3.,   3.,   3.,   3.,   3.,   1.,   3.,   5.,  12.,  12.],\n",
       "       [  3.,   3.,   3.,   3.,   3.,   3.,   3.,   5.,   9.,  13.],\n",
       "       [  3.,   3.,   3.,   3.,   3.,   3.,   3.,   6.,   8.,  11.],\n",
       "       [  3.,   3.,   2.,   3.,   3.,   4.,   5.,  11.,   5.,  14.],\n",
       "       [  3.,   3.,   3.,   3.,   5.,   3.,   5.,   4.,   8.,  10.],\n",
       "       [  3.,   5.,   3.,   3.,   3.,   4.,   3.,  10.,  12.,  10.],\n",
       "       [  3.,   5.,   3.,   3.,   5.,   7.,   3.,   1.,   7.,  10.],\n",
       "       [  3.,   3.,   3.,   3.,   3.,   3.,   5.,   2.,  11.,   5.],\n",
       "       [  3.,   3.,   3.,   3.,   3.,   3.,   1.,   3.,   5.,  10.],\n",
       "       [  3.,   3.,   3.,   3.,   3.,   3.,   4.,   4.,  20.,  15.],\n",
       "       [  3.,   3.,   3.,   3.,   3.,   3.,   3.,   5.,   5.,   6.],\n",
       "       [  3.,   3.,   3.,   5.,   5.,   3.,   2.,   5.,   4.,   9.],\n",
       "       [  3.,   3.,   3.,   3.,   3.,   3.,   2.,   6.,  10.,  16.],\n",
       "       [  3.,   3.,   3.,   3.,   2.,   3.,   7.,  10.,   2.,  13.],\n",
       "       [  3.,   1.,   3.,   3.,   3.,   3.,   5.,   4.,   5.,   9.],\n",
       "       [  3.,   3.,   3.,   3.,   4.,   3.,   5.,   3.,  12.,  13.],\n",
       "       [  3.,   3.,   3.,   3.,   3.,   3.,   6.,   3.,   4.,   7.],\n",
       "       [  3.,   3.,   2.,   3.,   3.,   3.,   4.,   3.,  14.,  15.],\n",
       "       [  3.,   3.,   3.,   3.,   3.,   8.,   5.,   6.,  16.,   9.],\n",
       "       [  3.,   3.,   3.,   1.,   1.,   3.,   2.,   3.,   8.,  14.],\n",
       "       [  3.,   3.,   3.,   3.,   3.,   3.,   2.,   6.,   7.,  15.],\n",
       "       [  3.,   3.,   3.,   5.,   3.,   5.,   3.,   8.,   6.,  22.],\n",
       "       [  3.,   3.,   3.,   2.,   6.,   3.,   3.,   2.,   4.,  10.],\n",
       "       [  3.,   3.,   3.,   3.,   3.,   3.,   5.,   5.,  12.,   7.],\n",
       "       [  3.,   3.,   5.,   3.,   5.,   3.,   3.,   3.,  12.,   8.],\n",
       "       [  3.,   3.,   3.,   1.,   3.,   3.,   8.,   6.,   8.,   4.],\n",
       "       [  3.,   3.,   3.,   3.,   3.,   3.,   3.,   2.,   4.,  13.],\n",
       "       [  3.,   3.,   3.,   3.,   3.,   7.,   3.,   3.,  17.,   7.],\n",
       "       [  3.,   3.,   3.,   3.,   3.,   3.,   5.,   5.,   3.,  12.],\n",
       "       [  3.,   3.,   3.,   3.,   3.,   2.,   3.,   0.,   8.,  14.],\n",
       "       [  3.,   5.,   5.,   3.,   3.,   3.,   3.,   3.,  10.,  16.],\n",
       "       [  3.,   3.,   3.,   3.,   3.,   3.,   3.,   3.,   5.,  13.],\n",
       "       [  3.,   3.,   3.,   3.,   3.,   4.,   2.,   3.,  10.,  11.],\n",
       "       [  3.,   3.,   3.,   3.,   6.,   3.,   1.,   4.,  11.,  17.],\n",
       "       [  3.,   3.,   3.,   2.,   5.,   3.,   3.,   5.,   6., 119.],\n",
       "       [  3.,   3.,   3.,   2.,   5.,   5.,   8.,   5.,   4.,  12.],\n",
       "       [  3.,   3.,   3.,   3.,   5.,   3.,   3.,   8.,   4.,  28.],\n",
       "       [  3.,   3.,   3.,   2.,   1.,   6.,   8.,   2.,   7.,  18.],\n",
       "       [  3.,   3.,   3.,   3.,   6.,   0.,   5.,   4.,   8.,  10.],\n",
       "       [  3.,   3.,   3.,   3.,   3.,   3.,   3.,   5.,  16.,   9.],\n",
       "       [  3.,   3.,   3.,   3.,   3.,   3.,   5.,   2.,   7.,  14.],\n",
       "       [  3.,   3.,   3.,   3.,   3.,   3.,   5.,   3.,   9.,  15.],\n",
       "       [  3.,   3.,   3.,   3.,   5.,   3.,   5.,   4.,   8.,   8.],\n",
       "       [  3.,   3.,   3.,   6.,   3.,   3.,  11.,   5.,   9.,  12.],\n",
       "       [  5.,   3.,   3.,   3.,   3.,   3.,   2.,   6.,   9.,  13.],\n",
       "       [  3.,   3.,   3.,   3.,   3.,   5.,   3.,   6.,   7.,  15.],\n",
       "       [  3.,   3.,   3.,   3.,   3.,   3.,   6.,   4.,  10.,  15.],\n",
       "       [  3.,   3.,   3.,   3.,   1.,   3.,   3.,   5.,  11.,   5.],\n",
       "       [  3.,   3.,   3.,   1.,   3.,   6.,   4.,   6.,   4.,   5.],\n",
       "       [  3.,   3.,   3.,   3.,   3.,   3.,   3.,   4.,   6.,  18.],\n",
       "       [  3.,   3.,   3.,   3.,   1.,   3.,   2.,   5.,  13.,  20.],\n",
       "       [  3.,   3.,   3.,   3.,   2.,   0.,   6.,   6.,   5.,  13.],\n",
       "       [  3.,   3.,   3.,   3.,   3.,   5.,   2.,   6.,   5.,  11.],\n",
       "       [  3.,   3.,   3.,   3.,   5.,   3.,   5.,   5.,   6.,  18.],\n",
       "       [  3.,   3.,   1.,   5.,   3.,   5.,   1.,   5.,   8.,   7.],\n",
       "       [  3.,   3.,   3.,   3.,   3.,   3.,   6.,   5.,  11.,  13.],\n",
       "       [  3.,   3.,   3.,   3.,   3.,   4.,   1.,   8.,  10.,  17.],\n",
       "       [  3.,   3.,   1.,   3.,   3.,   3.,   5.,   9.,   8.,  26.],\n",
       "       [  3.,   3.,   3.,   3.,   3.,   3.,   3.,   2.,   8.,   8.],\n",
       "       [  3.,   3.,   3.,   3.,   2.,   3.,   3.,   8.,   8.,   7.],\n",
       "       [  3.,   3.,   3.,   2.,   3.,   8.,   6.,   6.,   6.,   5.],\n",
       "       [  3.,   3.,   3.,   3.,   3.,   3.,   8.,   3.,  10.,  23.],\n",
       "       [  3.,   5.,   3.,   3.,   3.,   3.,   3.,   6.,   7.,  10.],\n",
       "       [  3.,   3.,   3.,   3.,   3.,   3.,   3.,   5.,   8.,  17.],\n",
       "       [  3.,   3.,   3.,   3.,   3.,   1.,   2.,   7.,   6.,  28.],\n",
       "       [  3.,   3.,   3.,   3.,   1.,   6.,   4.,   8.,  11.,   6.],\n",
       "       [  3.,   3.,   3.,   3.,   3.,   3.,   7.,   7.,   6.,   7.],\n",
       "       [  3.,   3.,   3.,   3.,   3.,   2.,   3.,   5.,  13.,  14.],\n",
       "       [  3.,   2.,   3.,   3.,   5.,   5.,   2.,   5.,   4.,  10.],\n",
       "       [  3.,   3.,   3.,   3.,   3.,   3.,   3.,   3.,   4.,  13.],\n",
       "       [  3.,   3.,   3.,   3.,   3.,   6.,   5.,   3.,   6.,  11.],\n",
       "       [  3.,   3.,   3.,   3.,   5.,   1.,   5.,   6.,   4.,  16.],\n",
       "       [  3.,   3.,   3.,   5.,   3.,   3.,   6.,   8.,   6.,  10.],\n",
       "       [  3.,   3.,   3.,   3.,   5.,   3.,   5.,   4.,   9.,  14.],\n",
       "       [  3.,   3.,   3.,   3.,   3.,   3.,   6.,   6.,   6.,  13.],\n",
       "       [  3.,   3.,   3.,   3.,   3.,   5.,   3.,   5.,   3.,  13.],\n",
       "       [  3.,   3.,   3.,   3.,   3.,   3.,   3.,   2.,   5.,  10.],\n",
       "       [  3.,   3.,   3.,   3.,   3.,   3.,   5.,   3.,   5.,  12.],\n",
       "       [  3.,   3.,   3.,   3.,   3.,   3.,   5.,   5.,   9.,  13.],\n",
       "       [  3.,   3.,   3.,   3.,   3.,   3.,   3.,   6.,  13., 122.],\n",
       "       [  3.,   3.,   3.,   1.,   3.,   1.,   5.,   1.,   5.,  18.],\n",
       "       [  3.,   3.,   3.,   3.,   3.,   3.,   5.,   3.,   3.,  15.],\n",
       "       [  3.,   3.,   3.,   3.,   3.,   5.,  11.,   6.,   5.,   6.],\n",
       "       [  3.,   3.,   3.,   3.,   3.,   3.,   7.,   2.,   7.,  10.],\n",
       "       [  3.,   3.,   3.,   3.,   2.,   3.,   5.,   2.,  10.,  17.],\n",
       "       [  3.,   3.,   3.,   3.,   3.,   3.,   8.,   6.,   5.,  14.],\n",
       "       [  3.,   5.,   3.,   3.,   3.,   2.,   4.,  19.,   6.,  21.],\n",
       "       [  3.,   3.,   3.,   3.,   3.,   3.,   2.,   3.,   9.,  15.]])"
      ]
     },
     "execution_count": 400,
     "metadata": {},
     "output_type": "execute_result"
    }
   ],
   "source": [
    "sa_best_fitness_arr"
   ]
  },
  {
   "cell_type": "code",
   "execution_count": 396,
   "metadata": {},
   "outputs": [
    {
     "data": {
      "text/plain": [
       "array([ 3.2,  2.7,  3.6,  6.4,  4.2,  8.7, 17.8, 33.3, 33.2, 37. ])"
      ]
     },
     "execution_count": 396,
     "metadata": {},
     "output_type": "execute_result"
    }
   ],
   "source": [
    "np.mean(sa_best_fitness_arr, axis = 0)"
   ]
  },
  {
   "cell_type": "code",
   "execution_count": 395,
   "metadata": {},
   "outputs": [
    {
     "data": {
      "text/plain": [
       "array([ 0.6       ,  0.64031242,  1.28062485,  6.59090282,  2.13541565,\n",
       "        9.39201789, 11.64302366,  3.76961536,  6.66033032,  0.        ])"
      ]
     },
     "execution_count": 395,
     "metadata": {},
     "output_type": "execute_result"
    }
   ],
   "source": [
    "np.std(sa_best_fitness_arr, axis = 0)"
   ]
  },
  {
   "cell_type": "code",
   "execution_count": 318,
   "metadata": {},
   "outputs": [
    {
     "data": {
      "text/plain": [
       "array([4.155, 5.   , 5.7  , 4.9  , 5.3  , 5.   , 6.   , 5.2  , 5.6  ,\n",
       "       5.9  , 5.4  ])"
      ]
     },
     "execution_count": 318,
     "metadata": {},
     "output_type": "execute_result"
    }
   ],
   "source": [
    "np.mean(rhc_best_fitness_arr, axis = 1)"
   ]
  },
  {
   "cell_type": "code",
   "execution_count": 26,
   "metadata": {},
   "outputs": [],
   "source": [
    "def plot_fitness_iter(best_fitness_lists, iters, method_names, problem_name, input_size):\n",
    "    \"\"\"best fitness list: list of best_fitness_arr for different methods\n",
    "    \"\"\"\n",
    "    opt = 2*input_size - (int(.1*input_size) +1)\n",
    "    plt.style.use('seaborn')\n",
    "    for i in range(len(best_fitness_lists)):\n",
    "        best_fitness_mean = np.mean(best_fitness_lists[i], axis=0)\n",
    "        best_fitness_std = np.std(best_fitness_lists[i], axis=0)\n",
    "    \n",
    "        plt.fill_between(iters, best_fitness_mean - .5*best_fitness_std,\n",
    "                         best_fitness_mean + .5*best_fitness_std, alpha=0.2,\n",
    "                         color='C'+str(i))\n",
    "        plt.plot(iters, best_fitness_mean, 'o-', color='C'+str(i),\n",
    "                 label=method_names[i])\n",
    "    plt.axhline(y=opt, color='y', linestyle='--', label='maximum')\n",
    "    plt.xscale('log', basex=2)\n",
    "    plt.ylabel('Fitness score', fontsize=14)\n",
    "    plt.xlabel('Iterations', fontsize=14)\n",
    "    plt.title('Fitness score vs. iterations for ' + problem_name + ' with ' + str(input_size)+ ' inputs' )\n",
    "    plt.legend()\n",
    "    return plt"
   ]
  },
  {
   "cell_type": "code",
   "execution_count": 43,
   "metadata": {},
   "outputs": [
    {
     "data": {
      "text/plain": [
       "<module 'matplotlib.pyplot' from '//anaconda3/lib/python3.7/site-packages/matplotlib/pyplot.py'>"
      ]
     },
     "execution_count": 43,
     "metadata": {},
     "output_type": "execute_result"
    },
    {
     "data": {
      "image/png": "[encoded data removed]",
      "text/plain": [
       "<Figure size 576x396 with 1 Axes>"
      ]
     },
     "metadata": {},
     "output_type": "display_data"
    }
   ],
   "source": [
    "plot_fitness_iter([rhc_best_fitness_arr, sa_best_fitness_arr, ga_best_fitness_arr, mimic_best_fitness_arr], \n",
    "                  iters, ['rhc', 'sa', 'ga', 'mimic'], '4peaks', input_size)"
   ]
  },
  {
   "cell_type": "code",
   "execution_count": 40,
   "metadata": {},
   "outputs": [
    {
     "data": {
      "text/plain": [
       "<matplotlib.legend.Legend at 0x1a2518df60>"
      ]
     },
     "execution_count": 40,
     "metadata": {},
     "output_type": "execute_result"
    },
    {
     "data": {
      "image/png": "[encoded data removed]",
      "text/plain": [
       "<Figure size 576x396 with 1 Axes>"
      ]
     },
     "metadata": {},
     "output_type": "display_data"
    }
   ],
   "source": [
    "# time vs. iterations\n",
    "def plot_time_iter(best_fitness_lists, iters, method_names, problem_name):\n",
    "    \"\"\"best fitness list: list of best_fitness_arr for different methods\n",
    "    \"\"\"\n",
    "    opt = 2*init_state.shape[0] - (int(.1*init_state.shape[0]) +1)\n",
    "    plt.style.use('seaborn')\n",
    "    for i in range(len(best_fitness_lists)):\n",
    "        best_fitness_mean = np.mean(best_fitness_lists[i], axis=0)\n",
    "        best_fitness_std = np.std(best_fitness_lists[i], axis=0)\n",
    "    \n",
    "        plt.fill_between(iters, best_fitness_mean - best_fitness_std,\n",
    "                         best_fitness_mean + best_fitness_std, alpha=0.1,\n",
    "                         color=\"r\")\n",
    "        plt.plot(iters, best_fitness_mean, 'o-', color='C'+str(i),\n",
    "                 label=method_names[i])\n",
    "    plt.axhline(y=opt, color='y', linestyle='--', label='maximum')\n",
    "    plt.xscale('log', basex=2)\n",
    "    plt.ylabel('Fitness score', fontsize=14)\n",
    "    plt.xlabel('Iterations', fontsize=14)\n",
    "    plt.title('Fitness score vs. iterations - problem: ' + problem_name )\n",
    "    plt.legend()\n",
    "    return plt\n",
    "\n",
    "time_mean = np.mean(rhc_time_arr, axis=0)\n",
    "time_std = np.std(rhc_time_arr, axis=0)\n",
    "plt.style.use('seaborn')\n",
    "plt.fill_between(iters, time_mean - .1*time_std,\n",
    "                 time_mean + .1*time_std, alpha=0.1,\n",
    "                 color=\"r\")\n",
    "plt.plot(iters, time_mean, 'o-', color=\"r\",\n",
    "         label=\"rhc\")\n",
    "plt.xscale('log', basex=2)\n",
    "plt.ylabel('Time', fontsize=14)\n",
    "plt.xlabel('Iterations', fontsize=14)\n",
    "plt.title('Time score vs. iterations - method: ' + 'rhc' + ' - problem: ' + '4 peaks' )\n",
    "plt.legend()"
   ]
  },
  {
   "cell_type": "code",
   "execution_count": 220,
   "metadata": {},
   "outputs": [],
   "source": [
    "opt_problem = '4peaks'\n",
    "algorithm = 'simulated annealing'\n",
    "columns = ['opt_problem', 'algorithm', 'run_number', 'input_size', 'iter', 'time', 'fitness']\n",
    "fourpeaks_results = pd.DataFrame(columns = columns)\n",
    "# simulated annealing\n",
    "schedule = mlrose.ExpDecay()\n",
    "iters = [2**i for i in range(max_iter_p)]\n",
    "sa_best_fitness_arr = np.empty([0, len(iters)])\n",
    "sa_time_arr = np.empty([0, len(iters)])\n",
    "\n",
    "\n",
    "for n in range(num_runs):\n",
    "    fitness_list = []\n",
    "    time_list = []\n",
    "    for iter in iters:\n",
    "        start = time.time()\n",
    "        sa_best_state, sa_best_fitness = mlrose.simulated_annealing(problem, schedule = schedule, max_attempts = 100, \n",
    "                                                                    max_iters = iter, init_state = init_state)\n",
    "        finish = time.time()\n",
    "        duration = finish-start\n",
    "        time_list.append(duration)\n",
    "        fitness_list.append(sa_best_fitness)\n",
    "#         result ['run_number']  =  n \n",
    "#         result ['input_size'] = input_size\n",
    "#         result ['iter'] = iter\n",
    "#         result ['time'] = duration\n",
    "#         result ['fitness'] = sa_best_fitness\n",
    "        result = pd.DataFrame([[opt_problem, algorithm, n, input_size, iter, duration, sa_best_fitness]], \n",
    "                              columns=columns)\n",
    "        fourpeaks_results = fourpeaks_results.append(result)\n",
    "#         fourpeaks_results = pd.concat([fourpeaks_results, pd.Series(result)], ignore_index=True)\n",
    "    sa_time_arr = np.vstack((sa_time_arr, time_list))\n",
    "    sa_best_fitness_arr = np.vstack((sa_best_fitness_arr, fitness_list))"
   ]
  },
  {
   "cell_type": "code",
   "execution_count": 230,
   "metadata": {},
   "outputs": [
    {
     "ename": "ImportError",
     "evalue": "cannot import name 'FlipFlopGenerator' from 'mlrose' (//anaconda3/lib/python3.7/site-packages/mlrose/__init__.py)",
     "output_type": "error",
     "traceback": [
      "\u001b[0;31m---------------------------------------------------------------------------\u001b[0m",
      "\u001b[0;31mImportError\u001b[0m                               Traceback (most recent call last)",
      "\u001b[0;32m<ipython-input-230-2b814ef3e944>\u001b[0m in \u001b[0;36m<module>\u001b[0;34m\u001b[0m\n\u001b[1;32m      2\u001b[0m \u001b[0;32mimport\u001b[0m \u001b[0mpandas\u001b[0m \u001b[0;32mas\u001b[0m \u001b[0mpd\u001b[0m\u001b[0;34m\u001b[0m\u001b[0;34m\u001b[0m\u001b[0m\n\u001b[1;32m      3\u001b[0m \u001b[0;32mimport\u001b[0m \u001b[0mnumpy\u001b[0m \u001b[0;32mas\u001b[0m \u001b[0mnp\u001b[0m\u001b[0;34m\u001b[0m\u001b[0;34m\u001b[0m\u001b[0m\n\u001b[0;32m----> 4\u001b[0;31m \u001b[0;32mfrom\u001b[0m \u001b[0mmlrose\u001b[0m \u001b[0;32mimport\u001b[0m \u001b[0mFlipFlopGenerator\u001b[0m\u001b[0;34m,\u001b[0m \u001b[0mMIMICRunner\u001b[0m\u001b[0;34m\u001b[0m\u001b[0;34m\u001b[0m\u001b[0m\n\u001b[0m\u001b[1;32m      5\u001b[0m \u001b[0;34m\u001b[0m\u001b[0m\n\u001b[1;32m      6\u001b[0m \u001b[0;34m\u001b[0m\u001b[0m\n",
      "\u001b[0;31mImportError\u001b[0m: cannot import name 'FlipFlopGenerator' from 'mlrose' (//anaconda3/lib/python3.7/site-packages/mlrose/__init__.py)"
     ]
    }
   ],
   "source": [
    "import sklearn\n",
    "import pandas as pd\n",
    "import numpy as np\n",
    "from mlrose import FlipFlopGenerator, MIMICRunner\n",
    "\n",
    "\n",
    "problem = FlipFlopGenerator.generate(123, size=5)\n",
    "ma = MIMICRunner(problem=problem,\n",
    "                 experiment_name='flipflop_5',\n",
    "                 output_directory='out/',\n",
    "                 seed=123,\n",
    "                 iteration_list=2 ** np.arange(14),\n",
    "                 max_attempts=5000,\n",
    "                 keep_percent_list=[0.20, 0.40, 0.60, 0.80, 1.0],\n",
    "                 population_sizes=[200])\n",
    "# the two data frames will contain the results\n",
    "df_run_stats, df_run_curves = ma.run()\n",
    "\n"
   ]
  },
  {
   "cell_type": "code",
   "execution_count": null,
   "metadata": {},
   "outputs": [],
   "source": []
  },
  {
   "cell_type": "code",
   "execution_count": null,
   "metadata": {},
   "outputs": [],
   "source": []
  }
 ],
 "metadata": {
  "kernelspec": {
   "display_name": "Python 3",
   "language": "python",
   "name": "python3"
  },
  "language_info": {
   "codemirror_mode": {
    "name": "ipython",
    "version": 3
   },
   "file_extension": ".py",
   "mimetype": "text/x-python",
   "name": "python",
   "nbconvert_exporter": "python",
   "pygments_lexer": "ipython3",
   "version": "3.7.3"
  }
 },
 "nbformat": 4,
 "nbformat_minor": 2
}
