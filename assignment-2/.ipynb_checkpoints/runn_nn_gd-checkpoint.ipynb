{
 "cells": [
  {
   "cell_type": "code",
   "execution_count": 1,
   "metadata": {},
   "outputs": [],
   "source": [
    "from sklearn.model_selection import train_test_split\n",
    "from sklearn.preprocessing import MinMaxScaler, OneHotEncoder\n",
    "import time\n",
    "\n",
    "import mlrose\n",
    "import pandas as pd\n",
    "import traitlets.utils.bunch\n",
    "from mlrose import NNGSRunner\n",
    "from sklearn.datasets import load_iris\n",
    "from sklearn.metrics import make_scorer, f1_score, accuracy_score\n",
    "from sklearn.model_selection import train_test_split, GridSearchCV\n",
    "from sklearn.neural_network import MLPClassifier\n",
    "from sklearn.preprocessing import StandardScaler, OneHotEncoder\n",
    "import numpy as np\n",
    "\n",
    "\n",
    "def process_abalone_ternary():\n",
    "    df = pd.read_csv('data/abalone.data', names=[\"Sex\", \"Length\", \"Diameter\", \"Height\",\n",
    "                                                 \"Whole weight\", \"Shucked weight\", \"Viscera weight\",\n",
    "                                                 \"Shell weight\", \"Rings\"])\n",
    "    df = df[(df[\"Height\"] != 1.13) & (df['Height'] != 0.515)]\n",
    "\n",
    "    # deal with categorical data\n",
    "    df.loc[df.Sex == 'M', 'Male'] = 1.\n",
    "    df.loc[df.Sex == 'F', 'Female'] = 1.\n",
    "    df.loc[df.Sex == 'I', 'Infant'] = 1.\n",
    "    df.fillna(0, inplace=True)\n",
    "\n",
    "    # bucketize rings\n",
    "    df.loc[df.Rings < 11, 'Rings'] = 1.\n",
    "    df.loc[(df.Rings < 21) & (df.Rings > 10), 'Rings'] = 2.\n",
    "    df.loc[df.Rings > 20, 'Rings'] = 3.\n",
    "\n",
    "    return traitlets.Bunch(\n",
    "        data=df[['Male', 'Female', 'Infant', 'Length', 'Diameter', 'Height', 'Whole weight', 'Shucked weight',\n",
    "                 'Viscera weight', 'Shell weight']].values,\n",
    "        target=df[['Rings']].values,\n",
    "        target_names=df[\"Rings\"].unique(),\n",
    "        DESCR='abalone dataset...',\n",
    "        feature_names=['Male', 'Female', 'Infant', \"Length\", \"Diameter\", \"Height\",\n",
    "                       \"Whole weight\", \"Shucked weight\", \"Viscera weight\",\n",
    "                       \"Shell weight\"],\n",
    "    )\n",
    "\n",
    "data = process_abalone_ternary()\n",
    "# Split data into training and test sets\n",
    "\n",
    "X_train, X_test, y_train, y_test = train_test_split(data.data, data.target, \\\n",
    "                                                    test_size = 0.2, random_state = 3)\n",
    "\n",
    "# Normalize feature data\n",
    "scaler = MinMaxScaler()\n",
    "\n",
    "X_train_scaled = scaler.fit_transform(X_train)\n",
    "X_test_scaled = scaler.transform(X_test)\n",
    "\n",
    "# One hot encode target values\n",
    "one_hot = OneHotEncoder()\n",
    "\n",
    "y_train_hot = one_hot.fit_transform(y_train.reshape(-1, 1)).todense()\n",
    "y_test_hot = one_hot.transform(y_test.reshape(-1, 1)).todense()\n"
   ]
  },
  {
   "cell_type": "code",
   "execution_count": null,
   "metadata": {},
   "outputs": [
    {
     "name": "stdout",
     "output_type": "stream",
     "text": [
      "[1, 0.588622754491018, 0.6011976047904192, 0.35053095053095057, 0.9638581275939941, 1.055392472821766]\n"
     ]
    }
   ],
   "source": [
    "# Initialize neural network object and fit object\n",
    "csv_path = 'out/nn_genetic_alg.csv'\n",
    "cols = ['iter', 'train_accuracy', 'test_accuracy', 'test_f1', 'fit_time', 'loss']\n",
    "data = []\n",
    "for i in [1, 50, 100, 200, 400, 800, 1600, 3200]:\n",
    "    st=time.time()\n",
    "    nn_modelga = mlrose.NeuralNetwork(hidden_nodes = [10], activation = 'relu', \\\n",
    "                                     algorithm = 'genetic_alg', max_iters = i, \\\n",
    "                                     bias = True, is_classifier = True, learning_rate = 0.01, \\\n",
    "                                     early_stopping = True, clip_max = 5, max_attempts = 100, \\\n",
    "                                     random_state = 3, schedule=mlrose.GeomDecay(init_temp=100))\n",
    "\n",
    "    nn_modelga.fit(X_train_scaled, y_train_hot)\n",
    "    fn=time.time()\n",
    "\n",
    "    from sklearn.metrics import accuracy_score\n",
    "\n",
    "    # Predict labels for train set and assess accuracy\n",
    "\n",
    "    y_train_pred = nn_modelga.predict(X_train_scaled)\n",
    "\n",
    "    y_train_accuracy = accuracy_score(y_train_hot, y_train_pred)\n",
    "\n",
    "\n",
    "    # Predict labels for test set and assess accuracy\n",
    "    y_test_pred = nn_modelga.predict(X_test_scaled)\n",
    "\n",
    "    y_test_accuracy = accuracy_score(y_test_hot, y_test_pred)\n",
    "    \n",
    "    y_test_f1 = f1_score(y_test_hot, y_test_pred, average='macro')\n",
    "\n",
    "    row = [i, y_train_accuracy, y_test_accuracy, y_test_f1, fn-st, nn_modelga.loss]\n",
    "    data.append(row)\n",
    "    print (row)\n",
    "    nn_modelga=[]\n",
    "result = pd.DataFrame(data, columns=cols)\n",
    "result.to_csv(csv_path, index=None)"
   ]
  },
  {
   "cell_type": "code",
   "execution_count": null,
   "metadata": {},
   "outputs": [],
   "source": [
    "pd.read_csv(csv_path)"
   ]
  },
  {
   "cell_type": "code",
   "execution_count": null,
   "metadata": {},
   "outputs": [],
   "source": []
  }
 ],
 "metadata": {
  "kernelspec": {
   "display_name": "Python 3",
   "language": "python",
   "name": "python3"
  },
  "language_info": {
   "codemirror_mode": {
    "name": "ipython",
    "version": 3
   },
   "file_extension": ".py",
   "mimetype": "text/x-python",
   "name": "python",
   "nbconvert_exporter": "python",
   "pygments_lexer": "ipython3",
   "version": "3.7.3"
  }
 },
 "nbformat": 4,
 "nbformat_minor": 2
}
