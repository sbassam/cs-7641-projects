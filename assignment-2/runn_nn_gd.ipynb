{
 "cells": [
  {
   "cell_type": "code",
   "execution_count": 1,
   "metadata": {},
   "outputs": [],
   "source": [
    "from sklearn.model_selection import train_test_split\n",
    "from sklearn.preprocessing import MinMaxScaler, OneHotEncoder\n",
    "import time\n",
    "\n",
    "import mlrose\n",
    "import pandas as pd\n",
    "import traitlets.utils.bunch\n",
    "from mlrose import NNGSRunner\n",
    "from sklearn.datasets import load_iris\n",
    "from sklearn.metrics import make_scorer, f1_score, accuracy_score\n",
    "from sklearn.model_selection import train_test_split, GridSearchCV\n",
    "from sklearn.neural_network import MLPClassifier\n",
    "from sklearn.preprocessing import StandardScaler, OneHotEncoder\n",
    "import numpy as np\n",
    "\n",
    "\n",
    "def process_abalone_ternary():\n",
    "    df = pd.read_csv('data/abalone.data', names=[\"Sex\", \"Length\", \"Diameter\", \"Height\",\n",
    "                                                 \"Whole weight\", \"Shucked weight\", \"Viscera weight\",\n",
    "                                                 \"Shell weight\", \"Rings\"])\n",
    "    df = df[(df[\"Height\"] != 1.13) & (df['Height'] != 0.515)]\n",
    "\n",
    "    # deal with categorical data\n",
    "    df.loc[df.Sex == 'M', 'Male'] = 1.\n",
    "    df.loc[df.Sex == 'F', 'Female'] = 1.\n",
    "    df.loc[df.Sex == 'I', 'Infant'] = 1.\n",
    "    df.fillna(0, inplace=True)\n",
    "\n",
    "    # bucketize rings\n",
    "    df.loc[df.Rings < 11, 'Rings'] = 1.\n",
    "    df.loc[(df.Rings < 21) & (df.Rings > 10), 'Rings'] = 2.\n",
    "    df.loc[df.Rings > 20, 'Rings'] = 3.\n",
    "\n",
    "    return traitlets.Bunch(\n",
    "        data=df[['Male', 'Female', 'Infant', 'Length', 'Diameter', 'Height', 'Whole weight', 'Shucked weight',\n",
    "                 'Viscera weight', 'Shell weight']].values,\n",
    "        target=df[['Rings']].values,\n",
    "        target_names=df[\"Rings\"].unique(),\n",
    "        DESCR='abalone dataset...',\n",
    "        feature_names=['Male', 'Female', 'Infant', \"Length\", \"Diameter\", \"Height\",\n",
    "                       \"Whole weight\", \"Shucked weight\", \"Viscera weight\",\n",
    "                       \"Shell weight\"],\n",
    "    )\n",
    "\n",
    "data = process_abalone_ternary()\n",
    "# Split data into training and test sets\n",
    "\n",
    "X_train, X_test, y_train, y_test = train_test_split(data.data, data.target, \\\n",
    "                                                    test_size = 0.2, random_state = 3)\n",
    "\n",
    "# Normalize feature data\n",
    "scaler = MinMaxScaler()\n",
    "\n",
    "X_train_scaled = scaler.fit_transform(X_train)\n",
    "X_test_scaled = scaler.transform(X_test)\n",
    "\n",
    "# One hot encode target values\n",
    "one_hot = OneHotEncoder()\n",
    "\n",
    "y_train_hot = one_hot.fit_transform(y_train.reshape(-1, 1)).todense()\n",
    "y_test_hot = one_hot.transform(y_test.reshape(-1, 1)).todense()\n"
   ]
  },
  {
   "cell_type": "code",
   "execution_count": 4,
   "metadata": {},
   "outputs": [
    {
     "name": "stdout",
     "output_type": "stream",
     "text": [
      "[1, 0.6520958083832336, 0.6586826347305389, 0.2647412755716005, 0.013564348220825195, 0.7223456999870761]\n",
      "[50, 0.7137724550898203, 0.7077844311377246, 0.42668458781362006, 0.36786317825317383, 0.572367260300249]\n",
      "[100, 0.7224550898203593, 0.7137724550898203, 0.43667844018945196, 0.7031469345092773, 0.5568555015306643]\n",
      "[200, 0.7419161676646706, 0.7209580838323353, 0.44360673933758465, 1.371216058731079, 0.5356909757880657]\n",
      "[400, 0.7452095808383233, 0.7281437125748503, 0.45425868582504697, 2.720177173614502, 0.5283514083241961]\n",
      "[800, 0.7544910179640718, 0.7592814371257485, 0.492195833149248, 5.478238105773926, 0.5088885976959178]\n",
      "[1600, 0.7697604790419161, 0.7616766467065869, 0.4895334280085531, 11.104258060455322, 0.49109683787545555]\n",
      "[3200, 0.7817365269461077, 0.7808383233532934, 0.5038964567960741, 21.931485891342163, 0.4750039791828272]\n"
     ]
    }
   ],
   "source": [
    "# Initialize neural network object and fit object\n",
    "csv_path = 'out/nn_gradient_descent.csv'\n",
    "cols = ['iter', 'train_accuracy', 'test_accuracy', 'test_f1', 'fit_time', 'loss']\n",
    "data = []\n",
    "for i in [1, 50, 100, 200, 400, 800, 1600, 3200]:\n",
    "    st=time.time()\n",
    "    nn_modelgd = mlrose.NeuralNetwork(hidden_nodes = [10], activation = 'relu', \\\n",
    "                                     algorithm = 'gradient_descent', max_iters = i, \\\n",
    "                                     bias = True, is_classifier = True, learning_rate = 0.0001, \\\n",
    "                                     early_stopping = True, clip_max = 5, max_attempts = 100, \\\n",
    "                                     random_state = 3, schedule=mlrose.GeomDecay(init_temp=100))\n",
    "\n",
    "    nn_modelgd.fit(X_train_scaled, y_train_hot)\n",
    "    fn=time.time()\n",
    "\n",
    "    from sklearn.metrics import accuracy_score\n",
    "\n",
    "    # Predict labels for train set and assess accuracy\n",
    "\n",
    "    y_train_pred = nn_modelgd.predict(X_train_scaled)\n",
    "\n",
    "    y_train_accuracy = accuracy_score(y_train_hot, y_train_pred)\n",
    "\n",
    "\n",
    "    # Predict labels for test set and assess accuracy\n",
    "    y_test_pred = nn_modelgd.predict(X_test_scaled)\n",
    "\n",
    "    y_test_accuracy = accuracy_score(y_test_hot, y_test_pred)\n",
    "    \n",
    "    y_test_f1 = f1_score(y_test_hot, y_test_pred, average='macro')\n",
    "\n",
    "    row = [i, y_train_accuracy, y_test_accuracy, y_test_f1, fn-st, nn_modelgd.loss]\n",
    "    data.append(row)\n",
    "    print (row)\n",
    "    nn_modelgd=[]\n",
    "result = pd.DataFrame(data, columns=cols)\n",
    "result.to_csv(csv_path, index=None)"
   ]
  },
  {
   "cell_type": "code",
   "execution_count": 16,
   "metadata": {},
   "outputs": [
    {
     "data": {
      "text/html": [
       "<div>\n",
       "<style scoped>\n",
       "    .dataframe tbody tr th:only-of-type {\n",
       "        vertical-align: middle;\n",
       "    }\n",
       "\n",
       "    .dataframe tbody tr th {\n",
       "        vertical-align: top;\n",
       "    }\n",
       "\n",
       "    .dataframe thead th {\n",
       "        text-align: right;\n",
       "    }\n",
       "</style>\n",
       "<table border=\"1\" class=\"dataframe\">\n",
       "  <thead>\n",
       "    <tr style=\"text-align: right;\">\n",
       "      <th></th>\n",
       "      <th>iter</th>\n",
       "      <th>train_accuracy</th>\n",
       "      <th>test_accuracy</th>\n",
       "      <th>test_f1</th>\n",
       "      <th>fit_time</th>\n",
       "      <th>loss</th>\n",
       "    </tr>\n",
       "  </thead>\n",
       "  <tbody>\n",
       "    <tr>\n",
       "      <th>0</th>\n",
       "      <td>1</td>\n",
       "      <td>0.652096</td>\n",
       "      <td>0.658683</td>\n",
       "      <td>0.264741</td>\n",
       "      <td>0.013564</td>\n",
       "      <td>0.722346</td>\n",
       "    </tr>\n",
       "    <tr>\n",
       "      <th>1</th>\n",
       "      <td>50</td>\n",
       "      <td>0.713772</td>\n",
       "      <td>0.707784</td>\n",
       "      <td>0.426685</td>\n",
       "      <td>0.367863</td>\n",
       "      <td>0.572367</td>\n",
       "    </tr>\n",
       "    <tr>\n",
       "      <th>2</th>\n",
       "      <td>100</td>\n",
       "      <td>0.722455</td>\n",
       "      <td>0.713772</td>\n",
       "      <td>0.436678</td>\n",
       "      <td>0.703147</td>\n",
       "      <td>0.556856</td>\n",
       "    </tr>\n",
       "    <tr>\n",
       "      <th>3</th>\n",
       "      <td>200</td>\n",
       "      <td>0.741916</td>\n",
       "      <td>0.720958</td>\n",
       "      <td>0.443607</td>\n",
       "      <td>1.371216</td>\n",
       "      <td>0.535691</td>\n",
       "    </tr>\n",
       "    <tr>\n",
       "      <th>4</th>\n",
       "      <td>400</td>\n",
       "      <td>0.745210</td>\n",
       "      <td>0.728144</td>\n",
       "      <td>0.454259</td>\n",
       "      <td>2.720177</td>\n",
       "      <td>0.528351</td>\n",
       "    </tr>\n",
       "    <tr>\n",
       "      <th>5</th>\n",
       "      <td>800</td>\n",
       "      <td>0.754491</td>\n",
       "      <td>0.759281</td>\n",
       "      <td>0.492196</td>\n",
       "      <td>5.478238</td>\n",
       "      <td>0.508889</td>\n",
       "    </tr>\n",
       "    <tr>\n",
       "      <th>6</th>\n",
       "      <td>1600</td>\n",
       "      <td>0.769760</td>\n",
       "      <td>0.761677</td>\n",
       "      <td>0.489533</td>\n",
       "      <td>11.104258</td>\n",
       "      <td>0.491097</td>\n",
       "    </tr>\n",
       "    <tr>\n",
       "      <th>7</th>\n",
       "      <td>3200</td>\n",
       "      <td>0.781737</td>\n",
       "      <td>0.780838</td>\n",
       "      <td>0.503896</td>\n",
       "      <td>21.931486</td>\n",
       "      <td>0.475004</td>\n",
       "    </tr>\n",
       "  </tbody>\n",
       "</table>\n",
       "</div>"
      ],
      "text/plain": [
       "   iter  train_accuracy  test_accuracy   test_f1   fit_time      loss\n",
       "0     1        0.652096       0.658683  0.264741   0.013564  0.722346\n",
       "1    50        0.713772       0.707784  0.426685   0.367863  0.572367\n",
       "2   100        0.722455       0.713772  0.436678   0.703147  0.556856\n",
       "3   200        0.741916       0.720958  0.443607   1.371216  0.535691\n",
       "4   400        0.745210       0.728144  0.454259   2.720177  0.528351\n",
       "5   800        0.754491       0.759281  0.492196   5.478238  0.508889\n",
       "6  1600        0.769760       0.761677  0.489533  11.104258  0.491097\n",
       "7  3200        0.781737       0.780838  0.503896  21.931486  0.475004"
      ]
     },
     "execution_count": 16,
     "metadata": {},
     "output_type": "execute_result"
    }
   ],
   "source": [
    "pd.read_csv(csv_path)"
   ]
  },
  {
   "cell_type": "code",
   "execution_count": 12,
   "metadata": {},
   "outputs": [],
   "source": [
    "import matplotlib.pyplot as plt\n",
    "from datetime import datetime\n",
    "\n",
    "def plot_nn_score_vs_iters(alg_name):\n",
    "    df = pd.read_csv('out/nn_' + alg_name + '.csv')\n",
    "\n",
    "\n",
    "    plt.plot(df['iter'], df['train_accuracy'], 'x-', color=\"r\",\n",
    "             label=\"Training Accuracy\")\n",
    "    plt.plot(df['iter'], df['test_accuracy'], 'x-', color=\"g\",\n",
    "             label=\"Test Accuracy\")\n",
    "    plt.plot(df['iter'], df['test_f1'], '--', color=\"g\",\n",
    "             label=\"Test F1\")\n",
    "\n",
    "    plt.ylabel('Score', fontsize=14)\n",
    "    plt.xlabel('Iteration', fontsize=14)\n",
    "    plt.title('Score vs. Iteration for training and test data - ' + alg_name,\n",
    "              fontsize=14)\n",
    "    plt.legend()\n",
    "    plt.savefig(\n",
    "        'images/' + alg_name + 'nn-score-vs-iteration-' + str(datetime.now()) + '.png')\n",
    "    plt.show()\n",
    "    plt.close()\n",
    "    return plt\n",
    "\n",
    "\n",
    "def plot_nn_fit_time_vs_iter(alg_name):\n",
    "    df = pd.read_csv('out/nn_' + alg_name + '.csv')\n",
    "\n",
    "\n",
    "    plt.plot(df['iter'], df['fit_time'], 'o-', color=\"b\")\n",
    "\n",
    "    plt.ylabel('Fit Time', fontsize=14)\n",
    "    plt.xlabel('Iteration', fontsize=14)\n",
    "    plt.title(alg_name, fontsize=14)\n",
    "    plt.savefig('images/' + alg_name + 'nn-fittime-vs-time-' + str(datetime.now()) + '.png')\n",
    "    plt.show()\n",
    "    plt.close()\n",
    "    return plt\n",
    "\n",
    "def plot_nn_loss_vs_iter(alg_name):\n",
    "    df = pd.read_csv('out/nn_' + alg_name + '.csv')\n",
    "\n",
    "    plt.style.use('seaborn')\n",
    "\n",
    "    plt.plot(df['iter'], df['loss'], 'o-', color=\"y\")\n",
    "\n",
    "    plt.ylabel('Loss', fontsize=14)\n",
    "    plt.xlabel('Iteration', fontsize=14)\n",
    "    plt.title(alg_name, fontsize=14)\n",
    "    plt.savefig('images/' + alg_name + 'nn-loss-vs-iteration-' + str(datetime.now()) + '.png')\n",
    "    plt.show()\n",
    "    plt.close()\n",
    "    return plt"
   ]
  },
  {
   "cell_type": "code",
   "execution_count": 13,
   "metadata": {},
   "outputs": [
    {
     "data": {
      "image/png": "[encoded data removed]",
      "text/plain": [
       "<Figure size 576x396 with 1 Axes>"
      ]
     },
     "metadata": {},
     "output_type": "display_data"
    },
    {
     "data": {
      "text/plain": [
       "<module 'matplotlib.pyplot' from '//anaconda3/lib/python3.7/site-packages/matplotlib/pyplot.py'>"
      ]
     },
     "execution_count": 13,
     "metadata": {},
     "output_type": "execute_result"
    }
   ],
   "source": [
    "alg_name = 'gradient_descent'\n",
    "plot_nn_score_vs_iters(alg_name)"
   ]
  },
  {
   "cell_type": "code",
   "execution_count": 14,
   "metadata": {
    "scrolled": true
   },
   "outputs": [
    {
     "data": {
      "image/png": "[encoded data removed]",
      "text/plain": [
       "<Figure size 576x396 with 1 Axes>"
      ]
     },
     "metadata": {},
     "output_type": "display_data"
    },
    {
     "data": {
      "text/plain": [
       "<module 'matplotlib.pyplot' from '//anaconda3/lib/python3.7/site-packages/matplotlib/pyplot.py'>"
      ]
     },
     "execution_count": 14,
     "metadata": {},
     "output_type": "execute_result"
    }
   ],
   "source": [
    "plot_nn_fit_time_vs_iter(alg_name)"
   ]
  },
  {
   "cell_type": "code",
   "execution_count": 15,
   "metadata": {
    "scrolled": true
   },
   "outputs": [
    {
     "data": {
      "image/png": "[encoded data removed]",
      "text/plain": [
       "<Figure size 576x396 with 1 Axes>"
      ]
     },
     "metadata": {},
     "output_type": "display_data"
    },
    {
     "data": {
      "text/plain": [
       "<module 'matplotlib.pyplot' from '//anaconda3/lib/python3.7/site-packages/matplotlib/pyplot.py'>"
      ]
     },
     "execution_count": 15,
     "metadata": {},
     "output_type": "execute_result"
    }
   ],
   "source": [
    "plot_nn_loss_vs_iter(alg_name)"
   ]
  },
  {
   "cell_type": "code",
   "execution_count": null,
   "metadata": {},
   "outputs": [],
   "source": []
  }
 ],
 "metadata": {
  "kernelspec": {
   "display_name": "Python 3",
   "language": "python",
   "name": "python3"
  },
  "language_info": {
   "codemirror_mode": {
    "name": "ipython",
    "version": 3
   },
   "file_extension": ".py",
   "mimetype": "text/x-python",
   "name": "python",
   "nbconvert_exporter": "python",
   "pygments_lexer": "ipython3",
   "version": "3.7.3"
  }
 },
 "nbformat": 4,
 "nbformat_minor": 2
}
